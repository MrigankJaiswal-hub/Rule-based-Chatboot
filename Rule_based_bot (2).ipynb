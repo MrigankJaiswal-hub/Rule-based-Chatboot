{
  "nbformat": 4,
  "nbformat_minor": 0,
  "metadata": {
    "colab": {
      "provenance": []
    },
    "kernelspec": {
      "name": "python3",
      "display_name": "Python 3"
    },
    "language_info": {
      "name": "python"
    }
  },
  "cells": [
    {
      "cell_type": "code",
      "source": [
        "import re\n",
        "import random\n",
        "\n",
        "class RuleBot:\n",
        "  ### Potential Negative  Rsponses\n",
        "  negative_responses = (\"no\",\"nope\",\"nah\",\"naw\",\"not a chance\",\"sorry\")\n",
        "  ### Exit conversation Keywords\n",
        "  exit_conversation_keywords = (\"bye\",\"goodbye\",\"quit\",\"exit\",\"pause\",\"later\") #Renamed variable to match usage\n",
        "  ### Random starter questions\n",
        "  random_questions = (\n",
        "       \"Why are you here?\",\n",
        "       \"Are there many humans like you?\",\n",
        "       \"What do you consume for sustenance?\",\n",
        "       \"Is there intelligent life on this planet?\",\n",
        "       \"Does earth have a leader?\",\n",
        "       \"What planets have you visited?\",\n",
        "       \"What technology do you have on this planet?\",\n",
        "       )\n",
        "\n",
        "  def __init__(self,name):\n",
        "    self.alienbabble = {'describe_planet_intent': r'.*\\s*your planet.*',\n",
        "'answer_why_intent': r'why\\sare.*',\n",
        "                        'about_mrigank': r'.*\\s*mrigank',\n",
        "                        'about_session':r'.*\\s*session'\n",
        "                        }\n",
        "  def greet(self):\n",
        "         self.name = input(\"What is your name?\\n\")\n",
        "         will_help = input(f\"Hi{self.name}, I am Rule Bot. Will you help me learn about your planet?\\n\")\n",
        "         if will_help in self.negative_responses:\n",
        "             print(\"Ok,have a nice Earth day!\")\n",
        "             return\n",
        "         self.chat()\n",
        "  def make_exit(self, reply):\n",
        "       for command in self.exit_conversation_keywords: # Use the correct attribute name here\n",
        "            if reply == command:\n",
        "                print(\"Ok,have a nice Earth day!\")\n",
        "                return True\n",
        "  def chat(self):\n",
        "       reply = input(random.choice(self.random_questions)).lower()\n",
        "       while not self.make_exit(reply):\n",
        "              reply = input(self.match_reply(reply))\n",
        "\n",
        "  def match_reply(self, reply):\n",
        "        for key, value in self.alienbabble.items():\n",
        "            intent = key\n",
        "            regex_pattern = value\n",
        "            found_match = re.match(regex_pattern, reply)\n",
        "            if found_match and intent == 'describe_planet_intent':\n",
        "                return self.describe_planet_intent()\n",
        "            elif found_match and intent == 'answer_why_intent':\n",
        "                return self.answer_why_intent()\n",
        "            elif found_match and intent == 'about_mrigank':\n",
        "                return self.about_mrigank()\n",
        "            elif found_match and intent == 'about_session':\n",
        "                return self.about_session()\n",
        "        if not found_match:\n",
        "            return self.default_response() # Call the correct method name\n",
        "\n",
        "  def describe_planet_intent(self):\n",
        "      responses = (\"My Planet is a utopia of diverse organisms and species.\\n\",\n",
        "                   \"I am from Opidius, the capital of the Wayward Glaxies.\\n\")\n",
        "      return random.choice(responses)\n",
        "\n",
        "  def answer_why_intent(self):\n",
        "     responses = (\"I come in peace\\n\",\"I am here to collect data on your planet and its inhabitants\\n\",\n",
        "                  \"I heard the coffee is good\\n\")\n",
        "     return random.choice(responses)\n",
        "\n",
        "  def about_mrigank(self):\n",
        "     responses = (\"Mrigank is a undergraduate student\\n\", \"I currenty pursuing B.Tech from Central University of Jammu\\n\")\n",
        "     return \"Mrigank is a good person\\n, His persionality is great\"\n",
        "\n",
        "  def about_session(self):\n",
        "      responses = ('Session is on 22 Aug 2024\\n','Session was cool')\n",
        "      return random.choice(responses)\n",
        "\n",
        "  def default_response(self): # Renamed method to match usage\n",
        "     responses = (\n",
        "         \"Please tell me more.\\n\",\"Tell me more!\\n\",\"Why do you say that?\\n\",\n",
        "         \"I see.Can you elaborate on that?\\n\",\n",
        "         \"Interesting. Can you tell me more?\\n\",\n",
        "         \"Interesting. What else do you think?\\n\",\n",
        "     )\n",
        "     return random.choice(responses)\n",
        "\n",
        "AlienBot = RuleBot(\"Alien\")\n",
        "AlienBot.greet()"
      ],
      "metadata": {
        "colab": {
          "base_uri": "https://localhost:8080/"
        },
        "id": "e-BaUTXTuYYV",
        "outputId": "e32648bc-dc71-4ae5-bd95-6f3d9c828f48"
      },
      "execution_count": null,
      "outputs": [
        {
          "name": "stdout",
          "output_type": "stream",
          "text": [
            "What is your name?\n",
            "Mrigank Jaiswal\n",
            "HiMrigank Jaiswal, I am Rule Bot. Will you help me learn about your planet?\n",
            "yes\n"
          ]
        }
      ]
    }
  ]
}